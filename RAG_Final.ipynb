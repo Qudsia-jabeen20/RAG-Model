{
  "nbformat": 4,
  "nbformat_minor": 0,
  "metadata": {
    "colab": {
      "provenance": [],
      "authorship_tag": "ABX9TyNnPPCFRygwPQj8W6oZl0Nx",
      "include_colab_link": true
    },
    "kernelspec": {
      "name": "python3",
      "display_name": "Python 3"
    },
    "language_info": {
      "name": "python"
    }
  },
  "cells": [
    {
      "cell_type": "markdown",
      "metadata": {
        "id": "view-in-github",
        "colab_type": "text"
      },
      "source": [
        "<a href=\"https://colab.research.google.com/github/Qudsia-jabeen20/RAG-Model/blob/main/RAG_Final.ipynb\" target=\"_parent\"><img src=\"https://colab.research.google.com/assets/colab-badge.svg\" alt=\"Open In Colab\"/></a>"
      ]
    },
    {
      "cell_type": "code",
      "execution_count": null,
      "metadata": {
        "id": "U3FzG4yAHkmE"
      },
      "outputs": [],
      "source": [
        "from PyPDF2 import PdfReader\n",
        "from langchain.text_splitter import RecursiveCharacterTextSplitter\n",
        "from langchain.embeddings import HuggingFaceEmbeddings\n",
        "from langchain.vectorstores import Chroma\n",
        "from transformers import AutoTokenizer, AutoModelForSeq2SeqLM\n",
        "\n",
        "# 1. Load PDF\n",
        "def load_pdf_text(filename):\n",
        "    reader = PdfReader(filename)\n",
        "    return \"\\n\".join([page.extract_text() for page in reader.pages])\n",
        "\n",
        "# 2. Chunk text\n",
        "def chunk_text(text):\n",
        "    splitter = RecursiveCharacterTextSplitter(chunk_size=500, chunk_overlap=50)\n",
        "    return splitter.split_text(text)\n",
        "\n",
        "# 3. Embed and store in Chroma\n",
        "def create_vectorstore(chunks):\n",
        "    embeddings = HuggingFaceEmbeddings(model_name=\"all-MiniLM-L6-v2\")\n",
        "    vectorstore = Chroma.from_texts(chunks, embeddings, persist_directory=\"./rag_store\")\n",
        "    vectorstore.persist()\n",
        "    return vectorstore\n",
        "\n",
        "# 4. Retrieve context based on question\n",
        "def retrieve_context(vectorstore, question, k=3):\n",
        "    retriever = vectorstore.as_retriever(search_kwargs={\"k\": k})\n",
        "    docs = retriever.get_relevant_documents(question)\n",
        "    return \"\\n\".join([doc.page_content for doc in docs])\n",
        "\n",
        "# 5. QA using local model\n",
        "\n",
        "def answer_question(context, question):\n",
        "    prompt = f\"Answer the question based on the following context:\\n\\n{context}\\n\\nQuestion: {question}\\nAnswer:\"\n",
        "    model_name = \"google/flan-t5-base\"\n",
        "    tokenizer = AutoTokenizer.from_pretrained(model_name)\n",
        "    model = AutoModelForSeq2SeqLM.from_pretrained(model_name)\n",
        "\n",
        "    inputs = tokenizer(prompt, return_tensors=\"pt\", max_length=1024, truncation=True)\n",
        "    outputs = model.generate(**inputs, max_length=256)\n",
        "    return tokenizer.decode(outputs[0], skip_special_tokens=True)\n",
        "\n",
        "# 🧪 Run the RAG Pipeline\n",
        "if __name__ == \"__main__\":\n",
        "    # Step 1: Load PDF or Text\n",
        "    text = load_pdf_text(\"path of your file\")  # change to your path\n",
        "\n",
        "    # Step 2: Chunk\n",
        "    chunks = chunk_text(text)\n",
        "\n",
        "    # Step 3: Embed and Store\n",
        "    vectorstore = create_vectorstore(chunks)\n",
        "\n",
        "    # Step 4: Ask Q&A\n",
        "    print(\"\\n🤖 RAG Q&A Chatbot Ready! Type 'exit' to quit.\")\n",
        "    while True:\n",
        "        question = input(\"\\nQ: \")\n",
        "        if question.lower() == \"exit\":\n",
        "            break\n",
        "        context = retrieve_context(vectorstore, question)\n",
        "        answer = answer_question(context, question)\n",
        "        print(f\"\\nA: {answer}\")\n",
        "\n",
        "\n"
      ]
    },
    {
      "cell_type": "code",
      "metadata": {
        "id": "f1d8d30c"
      },
      "source": [
        "%pip install PyPDF2"
      ],
      "execution_count": null,
      "outputs": []
    },
    {
      "cell_type": "code",
      "metadata": {
        "id": "f7074cf2"
      },
      "source": [
        "%pip install -U langchain-community transformers"
      ],
      "execution_count": null,
      "outputs": []
    },
    {
      "cell_type": "code",
      "metadata": {
        "id": "50fa1fb3"
      },
      "source": [
        "%pip install chromadb"
      ],
      "execution_count": null,
      "outputs": []
    }
  ]
}